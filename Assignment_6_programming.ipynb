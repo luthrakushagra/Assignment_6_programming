{
 "cells": [
  {
   "cell_type": "markdown",
   "id": "6c8d51aa",
   "metadata": {},
   "source": [
    "# Assignment_6_programming"
   ]
  },
  {
   "cell_type": "markdown",
   "id": "e6fa90d5",
   "metadata": {},
   "source": [
    "## Write a Python Program to Display Fibonacci Sequence Using Recursion?\n",
    "\n",
    "\n",
    "\n"
   ]
  },
  {
   "cell_type": "code",
   "execution_count": 15,
   "id": "1a4b2849",
   "metadata": {},
   "outputs": [
    {
     "name": "stdout",
     "output_type": "stream",
     "text": [
      "Enter a number8\n",
      "Using recursion value of  fib 8 is 13\n"
     ]
    }
   ],
   "source": [
    "def fib(n):\n",
    "    if n==1:\n",
    "        return 0\n",
    "    elif n==2:\n",
    "        return 1 \n",
    "    else:\n",
    "        return fib(n-1)+fib(n-2)\n",
    "num=int(input(\"Enter a number\"))\n",
    "print(f\"Using recursion value of  fib {num} is {fib(num)}\")\n",
    "\n",
    "    "
   ]
  },
  {
   "cell_type": "markdown",
   "id": "b78bc5a1",
   "metadata": {},
   "source": [
    "## Write a Python Program to Find Factorial of Number Using Recursion?"
   ]
  },
  {
   "cell_type": "code",
   "execution_count": 18,
   "id": "029ac278",
   "metadata": {},
   "outputs": [
    {
     "name": "stdout",
     "output_type": "stream",
     "text": [
      "enter the number4\n",
      "The factorial of the number is 24\n"
     ]
    }
   ],
   "source": [
    "def fact(n):\n",
    "    if n==0 or n==1:\n",
    "        return 1\n",
    "    else:\n",
    "        return n*fact(n-1)\n",
    "x=int(input(\"enter the number\"))\n",
    "print(f\"The factorial of the number is {fact(x)}\")\n"
   ]
  },
  {
   "cell_type": "markdown",
   "id": "36aba5b1",
   "metadata": {},
   "source": [
    "## Write a Python Program to calculate your Body Mass Index?"
   ]
  },
  {
   "cell_type": "code",
   "execution_count": 24,
   "id": "2cd5ea8c",
   "metadata": {},
   "outputs": [
    {
     "name": "stdout",
     "output_type": "stream",
     "text": [
      "Enter the weight in kg 63\n",
      "Enter the height in meter 1.72\n",
      "The B.M.I is 21.29529475392104\n"
     ]
    }
   ],
   "source": [
    "#weight(kg)/height(m)**2\n",
    "x=float(input(\"Enter the weight in kg \"))\n",
    "y=float(input(\"Enter the height in meter \"))\n",
    "BMI = x/pow(y,2)\n",
    "print(f\"The B.M.I is {BMI}\")"
   ]
  },
  {
   "cell_type": "markdown",
   "id": "0fd38c3a",
   "metadata": {},
   "source": [
    "##  Write a Python Program to calculate the natural logarithm of any number?"
   ]
  },
  {
   "cell_type": "code",
   "execution_count": 26,
   "id": "6e970bd9",
   "metadata": {},
   "outputs": [
    {
     "name": "stdout",
     "output_type": "stream",
     "text": [
      "Enter the number32\n",
      "The natural log is 3.4657359027997265\n"
     ]
    }
   ],
   "source": [
    "import math \n",
    "x=float(input(\"Enter the number\"))\n",
    "print(f\"The natural log is {math.log(x)}\")"
   ]
  },
  {
   "cell_type": "markdown",
   "id": "f32b7982",
   "metadata": {},
   "source": [
    "## Write a Python Program for cube sum of first n natural numbers?"
   ]
  },
  {
   "cell_type": "code",
   "execution_count": 34,
   "id": "c3cfa7e4",
   "metadata": {},
   "outputs": [
    {
     "name": "stdout",
     "output_type": "stream",
     "text": [
      "Enter the number8\n",
      "The cube sum of first 8 natural numbers is 1296\n"
     ]
    }
   ],
   "source": [
    "x=int(input(\"Enter the number\"))\n",
    "a=0\n",
    "for i in range(1,x+1):\n",
    "    a=a+pow(i,3)\n",
    "print(f\"The cube sum of first {x} natural numbers is {a}\")"
   ]
  },
  {
   "cell_type": "code",
   "execution_count": null,
   "id": "90514e73",
   "metadata": {},
   "outputs": [],
   "source": []
  }
 ],
 "metadata": {
  "kernelspec": {
   "display_name": "Python 3 (ipykernel)",
   "language": "python",
   "name": "python3"
  },
  "language_info": {
   "codemirror_mode": {
    "name": "ipython",
    "version": 3
   },
   "file_extension": ".py",
   "mimetype": "text/x-python",
   "name": "python",
   "nbconvert_exporter": "python",
   "pygments_lexer": "ipython3",
   "version": "3.9.12"
  }
 },
 "nbformat": 4,
 "nbformat_minor": 5
}
